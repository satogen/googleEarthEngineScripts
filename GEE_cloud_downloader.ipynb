{
  "nbformat": 4,
  "nbformat_minor": 0,
  "metadata": {
    "colab": {
      "name": "GEE_cloud_downloader ",
      "provenance": [],
      "collapsed_sections": []
    },
    "kernelspec": {
      "name": "python3",
      "display_name": "Python 3"
    },
    "language_info": {
      "name": "python"
    }
  },
  "cells": [
    {
      "cell_type": "code",
      "metadata": {
        "colab": {
          "base_uri": "https://localhost:8080/"
        },
        "id": "Z45fkddw7xZL",
        "outputId": "21ca5a40-0498-436a-fd31-a357487dbe02"
      },
      "source": [
        "# Earth Engine Python APIのインポート\n",
        "import ee\n",
        "# GEEの認証・初期化\n",
        "ee.Authenticate()\n",
        "ee.Initialize()\n",
        "from google.colab import drive\n",
        "drive.mount('/content/drive')"
      ],
      "execution_count": 2,
      "outputs": [
        {
          "output_type": "stream",
          "name": "stdout",
          "text": [
            "To authorize access needed by Earth Engine, open the following URL in a web browser and follow the instructions. If the web browser does not start automatically, please manually browse the URL below.\n",
            "\n",
            "    https://code.earthengine.google.com/client-auth?scopes=https%3A//www.googleapis.com/auth/earthengine%20https%3A//www.googleapis.com/auth/devstorage.full_control&request_id=Yc3usFlhZ7dDcxfqWE4JADY13uz0bwDlhABmAUevHW8&tc=vkn8oHtPeZSQyzl6ATjKVnWAITlHcFM-kxfs4iILlfU&cc=2AhhKHM396PBhIbg3qz5Ph3CAGZXLxTf0HeSzj82JyM\n",
            "\n",
            "The authorization workflow will generate a code, which you should paste in the box below.\n",
            "Enter verification code: 4/1AdQt8qjXjebEuTr1zw8nWGiWRmAY4ad0c8CJSKJFn0TcdNpQxTMgMlC3ADE\n",
            "\n",
            "Successfully saved authorization token.\n",
            "Mounted at /content/drive\n"
          ]
        }
      ]
    },
    {
      "cell_type": "code",
      "metadata": {
        "id": "VIv2zde-PSZW"
      },
      "source": [
        "import numpy as np"
      ],
      "execution_count": 3,
      "outputs": []
    },
    {
      "cell_type": "code",
      "metadata": {
        "id": "F7J8Ig8EOOom"
      },
      "source": [
        "jpn_data = ee.FeatureCollection(\"users/halogen322/jpn_prefecture\")\n",
        "# jpn_data = ee.FeatureCollection(\"users/halogen322/japan_region_poligon\")"
      ],
      "execution_count": 4,
      "outputs": []
    },
    {
      "cell_type": "code",
      "source": [
        "# print(jpn_data.propertyNames())\n",
        "# // A global power plant FeatureCollection.\n",
        "# fc = ee.FeatureCollection('WRI/GPPD/power_plants');\n",
        "\n",
        "# # // View a list of FeatureCollection property names.\n",
        "# print(fc.propertyNames());"
      ],
      "metadata": {
        "id": "ug7_lNf1MK00"
      },
      "execution_count": 34,
      "outputs": []
    },
    {
      "cell_type": "code",
      "metadata": {
        "id": "ZhMXsxKgCE5a"
      },
      "source": [
        "class CFG:\n",
        "  target_satellite =  'COPERNICUS/S5P/NRTI/L3_CLOUD'\n",
        "  target_band = 'cloud_fraction'\n",
        "  start_year = 2020\n",
        "  end_year = 2021\n",
        "  target_col = [\"name\", \"pref\", \"mean\"]\n",
        "  target_polygon = jpn_data\n",
        "  filen_name = \"cloud_\" \n",
        "\n",
        "  PRODUCTION = False\n",
        "  OUT_PUTPATH = 'cloud_csv_data'"
      ],
      "execution_count": 5,
      "outputs": []
    },
    {
      "cell_type": "code",
      "source": [
        "# 月ごとの値を算出\n",
        "filter_range = ee.Filter.date(\n",
        "  '2019-06-1T16:00', \n",
        "  '2019-06-2T08:00'\n",
        ")\n",
        "dataset = ee.ImageCollection(CFG.target_satellite).select('cloud_fraction').filter(filter_range)\n"
      ],
      "metadata": {
        "id": "blDHku-Q9DCY"
      },
      "execution_count": 6,
      "outputs": []
    },
    {
      "cell_type": "code",
      "source": [
        "print(dataset)"
      ],
      "metadata": {
        "colab": {
          "base_uri": "https://localhost:8080/"
        },
        "id": "_cqHPLsxK3Ni",
        "outputId": "5ab2c9ca-db83-474a-8efd-ac1293fe67e3"
      },
      "execution_count": 7,
      "outputs": [
        {
          "output_type": "stream",
          "name": "stdout",
          "text": [
            "ee.ImageCollection({\n",
            "  \"functionInvocationValue\": {\n",
            "    \"functionName\": \"Collection.filter\",\n",
            "    \"arguments\": {\n",
            "      \"collection\": {\n",
            "        \"functionInvocationValue\": {\n",
            "          \"functionName\": \"Collection.map\",\n",
            "          \"arguments\": {\n",
            "            \"baseAlgorithm\": {\n",
            "              \"functionDefinitionValue\": {\n",
            "                \"argumentNames\": [\n",
            "                  \"_MAPPING_VAR_0_0\"\n",
            "                ],\n",
            "                \"body\": {\n",
            "                  \"functionInvocationValue\": {\n",
            "                    \"functionName\": \"Image.select\",\n",
            "                    \"arguments\": {\n",
            "                      \"bandSelectors\": {\n",
            "                        \"constantValue\": [\n",
            "                          \"cloud_fraction\"\n",
            "                        ]\n",
            "                      },\n",
            "                      \"input\": {\n",
            "                        \"argumentReference\": \"_MAPPING_VAR_0_0\"\n",
            "                      }\n",
            "                    }\n",
            "                  }\n",
            "                }\n",
            "              }\n",
            "            },\n",
            "            \"collection\": {\n",
            "              \"functionInvocationValue\": {\n",
            "                \"functionName\": \"ImageCollection.load\",\n",
            "                \"arguments\": {\n",
            "                  \"id\": {\n",
            "                    \"constantValue\": \"COPERNICUS/S5P/NRTI/L3_CLOUD\"\n",
            "                  }\n",
            "                }\n",
            "              }\n",
            "            }\n",
            "          }\n",
            "        }\n",
            "      },\n",
            "      \"filter\": {\n",
            "        \"functionInvocationValue\": {\n",
            "          \"functionName\": \"Filter.dateRangeContains\",\n",
            "          \"arguments\": {\n",
            "            \"leftValue\": {\n",
            "              \"functionInvocationValue\": {\n",
            "                \"functionName\": \"DateRange\",\n",
            "                \"arguments\": {\n",
            "                  \"end\": {\n",
            "                    \"constantValue\": \"2019-06-2T08:00\"\n",
            "                  },\n",
            "                  \"start\": {\n",
            "                    \"constantValue\": \"2019-06-1T16:00\"\n",
            "                  }\n",
            "                }\n",
            "              }\n",
            "            },\n",
            "            \"rightField\": {\n",
            "              \"constantValue\": \"system:time_start\"\n",
            "            }\n",
            "          }\n",
            "        }\n",
            "      }\n",
            "    }\n",
            "  }\n",
            "})\n"
          ]
        }
      ]
    },
    {
      "cell_type": "code",
      "source": [
        "def get_date(image):\n",
        "  ee_date = ee.Date(image.get('system:time_start'))\n",
        "  print('Timestamp:', ee_date.getInfo())  # ee.Date\n",
        "  return ee_date"
      ],
      "metadata": {
        "id": "Z-OPJdjs9as2"
      },
      "execution_count": 8,
      "outputs": []
    },
    {
      "cell_type": "code",
      "source": [
        "dates = dataset.map(get_date)"
      ],
      "metadata": {
        "id": "lO06dfQ3_JNE"
      },
      "execution_count": null,
      "outputs": []
    },
    {
      "cell_type": "code",
      "metadata": {
        "id": "K64_9SdsPlIJ"
      },
      "source": [
        "reducers = ee.Reducer.mean();\n",
        "\n",
        "def ntl(image):\n",
        "  pas = image.reduceRegions(\n",
        "    collection=CFG.target_polygon,  \n",
        "    reducer=reducers,  \n",
        "    scale=500);\n",
        "  return pas;\n",
        "\n",
        "\n",
        "\n",
        "def export_table(table, description):\n",
        "  task = ee.batch.Export.table.toDrive(**{ \n",
        "    'collection': ee.FeatureCollection(table), \n",
        "    'description': description,\n",
        "    'folder':CFG.OUT_PUTPATH, \n",
        "    'selectors':(CFG.target_col),\n",
        "  })\n",
        "  if CFG.PRODUCTION:\n",
        "    task.start()\n",
        "  print(f'export {description} file complete!')"
      ],
      "execution_count": 9,
      "outputs": []
    },
    {
      "cell_type": "code",
      "metadata": {
        "id": "ecgWBWwqawAh"
      },
      "source": [
        "CFG.PRODUCTION = True"
      ],
      "execution_count": 10,
      "outputs": []
    },
    {
      "cell_type": "code",
      "source": [
        "CFG.start_day = 1\n",
        "CFG.end_day = 31"
      ],
      "metadata": {
        "id": "arjW2Q6rQVLQ"
      },
      "execution_count": 16,
      "outputs": []
    },
    {
      "cell_type": "code",
      "source": [
        "for day in np.arange(CFG.start_day, CFG.end_day, 1, dtype='int'):\n",
        "  print(str(day) + ' day start!')\n",
        "\n",
        "  # for time in np.arange(1, 24, 1):\n",
        "  #   print(str(day) + '/' + str(time))\n",
        "\n",
        "  # 月ごとの値を算出\n",
        "  filter_range = ee.Filter.date(\n",
        "    str(2022) + '-' + str(6) + '-' + str(day), \n",
        "    str(2022) + '-' + str(6) + '-' + str(day) + \"T23:59\")\n",
        "\n",
        "  # 日付を決定する\n",
        "  dataset = ee.ImageCollection(CFG.target_satellite).filter(filter_range)\n",
        "\n",
        "  # 対象バンドの選択\n",
        "  surfaceAirTemperature = dataset.select(CFG.target_band)\n",
        "  now_img = ntl(surfaceAirTemperature.mean())\n",
        "  \n",
        "  # 月のデータをダウンロード\n",
        "  # export_table(now_img, CFG.filen_name + str(day) + '-' + str(time));\n",
        "  export_table(now_img, CFG.filen_name + str(6) + \"_\" + str(day));"
      ],
      "metadata": {
        "colab": {
          "base_uri": "https://localhost:8080/"
        },
        "id": "o6xOmxXxO_8I",
        "outputId": "197e4325-413e-4d0a-c0c7-d32ff6cc9053"
      },
      "execution_count": 17,
      "outputs": [
        {
          "output_type": "stream",
          "name": "stdout",
          "text": [
            "1 day start!\n",
            "export cloud_6_1 file complete!\n",
            "2 day start!\n",
            "export cloud_6_2 file complete!\n",
            "3 day start!\n",
            "export cloud_6_3 file complete!\n",
            "4 day start!\n",
            "export cloud_6_4 file complete!\n",
            "5 day start!\n",
            "export cloud_6_5 file complete!\n",
            "6 day start!\n",
            "export cloud_6_6 file complete!\n",
            "7 day start!\n",
            "export cloud_6_7 file complete!\n",
            "8 day start!\n",
            "export cloud_6_8 file complete!\n",
            "9 day start!\n",
            "export cloud_6_9 file complete!\n",
            "10 day start!\n",
            "export cloud_6_10 file complete!\n",
            "11 day start!\n",
            "export cloud_6_11 file complete!\n",
            "12 day start!\n",
            "export cloud_6_12 file complete!\n",
            "13 day start!\n",
            "export cloud_6_13 file complete!\n",
            "14 day start!\n",
            "export cloud_6_14 file complete!\n",
            "15 day start!\n",
            "export cloud_6_15 file complete!\n",
            "16 day start!\n",
            "export cloud_6_16 file complete!\n",
            "17 day start!\n",
            "export cloud_6_17 file complete!\n",
            "18 day start!\n",
            "export cloud_6_18 file complete!\n",
            "19 day start!\n",
            "export cloud_6_19 file complete!\n",
            "20 day start!\n",
            "export cloud_6_20 file complete!\n",
            "21 day start!\n",
            "export cloud_6_21 file complete!\n",
            "22 day start!\n",
            "export cloud_6_22 file complete!\n",
            "23 day start!\n",
            "export cloud_6_23 file complete!\n",
            "24 day start!\n",
            "export cloud_6_24 file complete!\n",
            "25 day start!\n",
            "export cloud_6_25 file complete!\n",
            "26 day start!\n",
            "export cloud_6_26 file complete!\n",
            "27 day start!\n",
            "export cloud_6_27 file complete!\n",
            "28 day start!\n",
            "export cloud_6_28 file complete!\n",
            "29 day start!\n",
            "export cloud_6_29 file complete!\n",
            "30 day start!\n",
            "export cloud_6_30 file complete!\n"
          ]
        }
      ]
    },
    {
      "cell_type": "code",
      "source": [
        "for day in np.arange(CFG.start_day, CFG.end_day, 1, dtype='int'):\n",
        "  print(str(day) + ' day start!')\n",
        "\n",
        "  # for time in np.arange(1, 24, 1):\n",
        "  #   print(str(day) + '/' + str(time))\n",
        "\n",
        "  # 月ごとの値を算出\n",
        "  filter_range = ee.Filter.date(\n",
        "    str(2022) + '-' + str(7) + '-' + str(day), \n",
        "    str(2022) + '-' + str(7) + '-' + str(day) + \"T23:59\")\n",
        "\n",
        "  # 日付を決定する\n",
        "  dataset = ee.ImageCollection(CFG.target_satellite).filter(filter_range)\n",
        "\n",
        "  # 対象バンドの選択\n",
        "  surfaceAirTemperature = dataset.select(CFG.target_band)\n",
        "  now_img = ntl(surfaceAirTemperature.mean())\n",
        "  \n",
        "  # 月のデータをダウンロード\n",
        "  # export_table(now_img, CFG.filen_name + str(day) + '-' + str(time));\n",
        "  export_table(now_img, CFG.filen_name + str(7) + \"_\" + str(day));"
      ],
      "metadata": {
        "colab": {
          "base_uri": "https://localhost:8080/"
        },
        "id": "eFdAaHY19HZi",
        "outputId": "3bd10d59-7501-4a6d-d638-da38522f3294"
      },
      "execution_count": 18,
      "outputs": [
        {
          "output_type": "stream",
          "name": "stdout",
          "text": [
            "1 day start!\n",
            "export cloud_7_1 file complete!\n",
            "2 day start!\n",
            "export cloud_7_2 file complete!\n",
            "3 day start!\n",
            "export cloud_7_3 file complete!\n",
            "4 day start!\n",
            "export cloud_7_4 file complete!\n",
            "5 day start!\n",
            "export cloud_7_5 file complete!\n",
            "6 day start!\n",
            "export cloud_7_6 file complete!\n",
            "7 day start!\n",
            "export cloud_7_7 file complete!\n",
            "8 day start!\n",
            "export cloud_7_8 file complete!\n",
            "9 day start!\n",
            "export cloud_7_9 file complete!\n",
            "10 day start!\n",
            "export cloud_7_10 file complete!\n",
            "11 day start!\n",
            "export cloud_7_11 file complete!\n",
            "12 day start!\n",
            "export cloud_7_12 file complete!\n",
            "13 day start!\n",
            "export cloud_7_13 file complete!\n",
            "14 day start!\n",
            "export cloud_7_14 file complete!\n",
            "15 day start!\n",
            "export cloud_7_15 file complete!\n",
            "16 day start!\n",
            "export cloud_7_16 file complete!\n",
            "17 day start!\n",
            "export cloud_7_17 file complete!\n",
            "18 day start!\n",
            "export cloud_7_18 file complete!\n",
            "19 day start!\n",
            "export cloud_7_19 file complete!\n",
            "20 day start!\n",
            "export cloud_7_20 file complete!\n",
            "21 day start!\n",
            "export cloud_7_21 file complete!\n",
            "22 day start!\n",
            "export cloud_7_22 file complete!\n",
            "23 day start!\n",
            "export cloud_7_23 file complete!\n",
            "24 day start!\n",
            "export cloud_7_24 file complete!\n",
            "25 day start!\n",
            "export cloud_7_25 file complete!\n",
            "26 day start!\n",
            "export cloud_7_26 file complete!\n",
            "27 day start!\n",
            "export cloud_7_27 file complete!\n",
            "28 day start!\n",
            "export cloud_7_28 file complete!\n",
            "29 day start!\n",
            "export cloud_7_29 file complete!\n",
            "30 day start!\n",
            "export cloud_7_30 file complete!\n"
          ]
        }
      ]
    },
    {
      "cell_type": "code",
      "metadata": {
        "id": "VMwo1EEtOnuW"
      },
      "source": [
        "target_path = \"/content/drive/MyDrive/cloud_csv_data\""
      ],
      "execution_count": 21,
      "outputs": []
    },
    {
      "cell_type": "code",
      "metadata": {
        "id": "zVIuro5xEn7K",
        "colab": {
          "base_uri": "https://localhost:8080/"
        },
        "outputId": "5b4f6ec9-2ca7-4858-d0bb-ab8229267e42"
      },
      "source": [
        "import pandas as pd\n",
        "df = pd.DataFrame()\n",
        "for month in [6, 7]:\n",
        "  for day in np.arange(CFG.start_day, CFG.end_day, 1, dtype='int'):\n",
        "    print(f\"{month}-{day}\")\n",
        "    _df = pd.read_csv(f\"/content/drive/MyDrive/cloud_csv_data/cloud_{month}_{day}.csv\")\n",
        "    _df[\"date\"] = f\"2022-0{month}-{day}\"\n",
        "    _df = _df.query(\"pref == 13\")\n",
        "    df = pd.concat([df, _df], axis=0)"
      ],
      "execution_count": 25,
      "outputs": [
        {
          "output_type": "stream",
          "name": "stdout",
          "text": [
            "7-27\n",
            "7-28\n",
            "7-29\n",
            "7-30\n"
          ]
        }
      ]
    },
    {
      "cell_type": "code",
      "source": [
        "df[\"date\"] = pd.to_datetime(df[\"date\"])\n",
        "df.head()"
      ],
      "metadata": {
        "colab": {
          "base_uri": "https://localhost:8080/",
          "height": 206
        },
        "id": "hJuBsn0A9lpA",
        "outputId": "ca95258e-4c67-4746-cdec-6b86646d0133"
      },
      "execution_count": 28,
      "outputs": [
        {
          "output_type": "execute_result",
          "data": {
            "text/plain": [
              "   name  pref      mean       date\n",
              "12  ???    13  0.492974 2022-06-01\n",
              "12  ???    13  0.286388 2022-06-02\n",
              "12  ???    13  0.810937 2022-06-03\n",
              "12  ???    13  0.472123 2022-06-04\n",
              "12  ???    13  0.767391 2022-06-05"
            ],
            "text/html": [
              "\n",
              "  <div id=\"df-729c2af7-9f0a-4aa7-9494-a53ac8eed969\">\n",
              "    <div class=\"colab-df-container\">\n",
              "      <div>\n",
              "<style scoped>\n",
              "    .dataframe tbody tr th:only-of-type {\n",
              "        vertical-align: middle;\n",
              "    }\n",
              "\n",
              "    .dataframe tbody tr th {\n",
              "        vertical-align: top;\n",
              "    }\n",
              "\n",
              "    .dataframe thead th {\n",
              "        text-align: right;\n",
              "    }\n",
              "</style>\n",
              "<table border=\"1\" class=\"dataframe\">\n",
              "  <thead>\n",
              "    <tr style=\"text-align: right;\">\n",
              "      <th></th>\n",
              "      <th>name</th>\n",
              "      <th>pref</th>\n",
              "      <th>mean</th>\n",
              "      <th>date</th>\n",
              "    </tr>\n",
              "  </thead>\n",
              "  <tbody>\n",
              "    <tr>\n",
              "      <th>12</th>\n",
              "      <td>???</td>\n",
              "      <td>13</td>\n",
              "      <td>0.492974</td>\n",
              "      <td>2022-06-01</td>\n",
              "    </tr>\n",
              "    <tr>\n",
              "      <th>12</th>\n",
              "      <td>???</td>\n",
              "      <td>13</td>\n",
              "      <td>0.286388</td>\n",
              "      <td>2022-06-02</td>\n",
              "    </tr>\n",
              "    <tr>\n",
              "      <th>12</th>\n",
              "      <td>???</td>\n",
              "      <td>13</td>\n",
              "      <td>0.810937</td>\n",
              "      <td>2022-06-03</td>\n",
              "    </tr>\n",
              "    <tr>\n",
              "      <th>12</th>\n",
              "      <td>???</td>\n",
              "      <td>13</td>\n",
              "      <td>0.472123</td>\n",
              "      <td>2022-06-04</td>\n",
              "    </tr>\n",
              "    <tr>\n",
              "      <th>12</th>\n",
              "      <td>???</td>\n",
              "      <td>13</td>\n",
              "      <td>0.767391</td>\n",
              "      <td>2022-06-05</td>\n",
              "    </tr>\n",
              "  </tbody>\n",
              "</table>\n",
              "</div>\n",
              "      <button class=\"colab-df-convert\" onclick=\"convertToInteractive('df-729c2af7-9f0a-4aa7-9494-a53ac8eed969')\"\n",
              "              title=\"Convert this dataframe to an interactive table.\"\n",
              "              style=\"display:none;\">\n",
              "        \n",
              "  <svg xmlns=\"http://www.w3.org/2000/svg\" height=\"24px\"viewBox=\"0 0 24 24\"\n",
              "       width=\"24px\">\n",
              "    <path d=\"M0 0h24v24H0V0z\" fill=\"none\"/>\n",
              "    <path d=\"M18.56 5.44l.94 2.06.94-2.06 2.06-.94-2.06-.94-.94-2.06-.94 2.06-2.06.94zm-11 1L8.5 8.5l.94-2.06 2.06-.94-2.06-.94L8.5 2.5l-.94 2.06-2.06.94zm10 10l.94 2.06.94-2.06 2.06-.94-2.06-.94-.94-2.06-.94 2.06-2.06.94z\"/><path d=\"M17.41 7.96l-1.37-1.37c-.4-.4-.92-.59-1.43-.59-.52 0-1.04.2-1.43.59L10.3 9.45l-7.72 7.72c-.78.78-.78 2.05 0 2.83L4 21.41c.39.39.9.59 1.41.59.51 0 1.02-.2 1.41-.59l7.78-7.78 2.81-2.81c.8-.78.8-2.07 0-2.86zM5.41 20L4 18.59l7.72-7.72 1.47 1.35L5.41 20z\"/>\n",
              "  </svg>\n",
              "      </button>\n",
              "      \n",
              "  <style>\n",
              "    .colab-df-container {\n",
              "      display:flex;\n",
              "      flex-wrap:wrap;\n",
              "      gap: 12px;\n",
              "    }\n",
              "\n",
              "    .colab-df-convert {\n",
              "      background-color: #E8F0FE;\n",
              "      border: none;\n",
              "      border-radius: 50%;\n",
              "      cursor: pointer;\n",
              "      display: none;\n",
              "      fill: #1967D2;\n",
              "      height: 32px;\n",
              "      padding: 0 0 0 0;\n",
              "      width: 32px;\n",
              "    }\n",
              "\n",
              "    .colab-df-convert:hover {\n",
              "      background-color: #E2EBFA;\n",
              "      box-shadow: 0px 1px 2px rgba(60, 64, 67, 0.3), 0px 1px 3px 1px rgba(60, 64, 67, 0.15);\n",
              "      fill: #174EA6;\n",
              "    }\n",
              "\n",
              "    [theme=dark] .colab-df-convert {\n",
              "      background-color: #3B4455;\n",
              "      fill: #D2E3FC;\n",
              "    }\n",
              "\n",
              "    [theme=dark] .colab-df-convert:hover {\n",
              "      background-color: #434B5C;\n",
              "      box-shadow: 0px 1px 3px 1px rgba(0, 0, 0, 0.15);\n",
              "      filter: drop-shadow(0px 1px 2px rgba(0, 0, 0, 0.3));\n",
              "      fill: #FFFFFF;\n",
              "    }\n",
              "  </style>\n",
              "\n",
              "      <script>\n",
              "        const buttonEl =\n",
              "          document.querySelector('#df-729c2af7-9f0a-4aa7-9494-a53ac8eed969 button.colab-df-convert');\n",
              "        buttonEl.style.display =\n",
              "          google.colab.kernel.accessAllowed ? 'block' : 'none';\n",
              "\n",
              "        async function convertToInteractive(key) {\n",
              "          const element = document.querySelector('#df-729c2af7-9f0a-4aa7-9494-a53ac8eed969');\n",
              "          const dataTable =\n",
              "            await google.colab.kernel.invokeFunction('convertToInteractive',\n",
              "                                                     [key], {});\n",
              "          if (!dataTable) return;\n",
              "\n",
              "          const docLinkHtml = 'Like what you see? Visit the ' +\n",
              "            '<a target=\"_blank\" href=https://colab.research.google.com/notebooks/data_table.ipynb>data table notebook</a>'\n",
              "            + ' to learn more about interactive tables.';\n",
              "          element.innerHTML = '';\n",
              "          dataTable['output_type'] = 'display_data';\n",
              "          await google.colab.output.renderOutput(dataTable, element);\n",
              "          const docLink = document.createElement('div');\n",
              "          docLink.innerHTML = docLinkHtml;\n",
              "          element.appendChild(docLink);\n",
              "        }\n",
              "      </script>\n",
              "    </div>\n",
              "  </div>\n",
              "  "
            ]
          },
          "metadata": {},
          "execution_count": 28
        }
      ]
    },
    {
      "cell_type": "code",
      "source": [
        "df[[\"date\", \"mean\"]].to_csv(\"./tokyo_cloud.csv\", index=False)"
      ],
      "metadata": {
        "id": "OW0lm_4O-kIa"
      },
      "execution_count": 31,
      "outputs": []
    },
    {
      "cell_type": "code",
      "source": [],
      "metadata": {
        "id": "4E7joUNz_gVq"
      },
      "execution_count": null,
      "outputs": []
    }
  ]
}